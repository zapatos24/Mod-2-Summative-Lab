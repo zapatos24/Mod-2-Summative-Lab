{
 "cells": [
  {
   "cell_type": "code",
   "execution_count": null,
   "metadata": {},
   "outputs": [],
   "source": [
    "import sqlite3\n",
    "import time\n",
    "import pymongo\n",
    "import numpy as np\n",
    "import json\n",
    "import requests\n",
    "import pandas as pd\n",
    "import datetime\n",
    "from PIL import Image\n",
    "from IPython.display import HTML\n",
    "from matplotlib.image import imread\n",
    "from pandasql import sqldf\n",
    "import matplotlib.pyplot as plt\n",
    "%matplotlib inline"
   ]
  },
  {
   "cell_type": "code",
   "execution_count": 142,
   "metadata": {
    "scrolled": true
   },
   "outputs": [
    {
     "data": {
      "text/plain": [
       "2011-07-15    0\n",
       "2011-07-16    0\n",
       "2011-07-17    1\n",
       "2011-07-18    1\n",
       "2011-07-19    0\n",
       "2011-07-20    0\n",
       "2011-07-21    1\n",
       "2011-07-22    1\n",
       "2011-07-23    1\n",
       "2011-07-24    0\n",
       "2011-07-25    0\n",
       "2011-07-26    0\n",
       "2011-07-27    0\n",
       "2011-07-28    1\n",
       "2011-07-29    1\n",
       "2011-07-30    1\n",
       "2011-07-31    1\n",
       "2011-08-01    1\n",
       "2011-08-02    1\n",
       "2011-08-03    0\n",
       "2011-08-04    1\n",
       "2011-08-05    1\n",
       "2011-08-06    1\n",
       "2011-08-07    1\n",
       "2011-08-08    1\n",
       "2011-08-09    0\n",
       "2011-08-10    1\n",
       "2011-08-11    1\n",
       "2011-08-12    1\n",
       "2011-08-13    0\n",
       "             ..\n",
       "2012-04-07    0\n",
       "2012-04-08    0\n",
       "2012-04-09    0\n",
       "2012-04-10    0\n",
       "2012-04-11    0\n",
       "2012-04-12    0\n",
       "2012-04-13    0\n",
       "2012-04-14    0\n",
       "2012-04-15    0\n",
       "2012-04-16    0\n",
       "2012-04-17    0\n",
       "2012-04-18    0\n",
       "2012-04-19    0\n",
       "2012-04-20    0\n",
       "2012-04-21    0\n",
       "2012-04-22    0\n",
       "2012-04-23    0\n",
       "2012-04-24    1\n",
       "2012-04-25    1\n",
       "2012-04-26    0\n",
       "2012-04-27    0\n",
       "2012-04-28    0\n",
       "2012-04-29    0\n",
       "2012-04-30    0\n",
       "2012-05-01    0\n",
       "2012-05-02    0\n",
       "2012-05-03    1\n",
       "2012-05-04    0\n",
       "2012-05-05    1\n",
       "2012-05-06    1\n",
       "Name: 0, Length: 297, dtype: int64"
      ]
     },
     "execution_count": 142,
     "metadata": {},
     "output_type": "execute_result"
    }
   ],
   "source": [
    "conn = sqlite3.connect('database.sqlite')\n",
    "c = conn.cursor()"
   ]
  },
  {
   "cell_type": "code",
   "execution_count": null,
   "metadata": {},
   "outputs": [],
   "source": [
    "c.execute(\"\"\"SELECT *\n",
    "             FROM Matches\n",
    "             WHERE Season IN (2011) AND Div IN ('D1','D2') \n",
    "             ORDER BY Date\n",
    "             \"\"\")\n",
    "\n",
    "df = pd.DataFrame(c.fetchall())\n",
    "df.columns = [x[0] for x in c.description]\n",
    "df.head()"
   ]
  },
  {
   "cell_type": "code",
   "execution_count": null,
   "metadata": {},
   "outputs": [],
   "source": [
    "dict_of_win = {}\n",
    "for i in list(df.AwayTeam.unique()):\n",
    "    dict_of_win.update({i: 0})\n",
    "for n in range(len(df)):\n",
    "    if df.FTR.iloc[n] == 'H':\n",
    "        dict_of_win[df.HomeTeam.iloc[n]] += 1\n",
    "    elif df.FTR.iloc[n] == 'A':\n",
    "        dict_of_win[df.AwayTeam.iloc[n]] += 1"
   ]
  },
  {
   "cell_type": "code",
   "execution_count": null,
   "metadata": {},
   "outputs": [],
   "source": [
    "dict_of_loss = {}\n",
    "for i in list(df.AwayTeam.unique()):\n",
    "    dict_of_loss.update({i: 0})\n",
    "for n in range(len(df)):\n",
    "    if df.FTR.iloc[n] == 'H':\n",
    "        dict_of_loss[df.AwayTeam.iloc[n]] += 1\n",
    "    elif df.FTR.iloc[n] == 'A':\n",
    "        dict_of_loss[df.HomeTeam.iloc[n]] += 1"
   ]
  },
  {
   "cell_type": "code",
   "execution_count": null,
   "metadata": {},
   "outputs": [],
   "source": [
    "dict_of_draw = {}\n",
    "for i in list(df.AwayTeam.unique()):\n",
    "    dict_of_draw.update({i: 0})\n",
    "for n in range(len(df)):\n",
    "    if df.FTR.iloc[n] == 'D':\n",
    "        dict_of_draw[df.AwayTeam.iloc[n]] += 1\n",
    "        dict_of_draw[df.HomeTeam.iloc[n]] += 1"
   ]
  },
  {
   "cell_type": "code",
   "execution_count": null,
   "metadata": {},
   "outputs": [],
   "source": [
    "dates = [str(datetime.date(2011,7, 15) + datetime.timedelta(i)) for i in range(297)]\n",
    "\n",
    "#time set at 3pm GMT to find 4pm European Central Time\n",
    "# urls = [\"https://api.darksky.net/forecast/520ec0a7ffac4abd104235b232a81fbb/52.5200,13.4050,\"\\\n",
    "#                        +date+\"T15:00:00Z?exclude=currently,hourly,flags\" for date in dates]\n",
    "#retrieve data and unstring\n",
    "data = []\n",
    "for i in urls:\n",
    "    data.append(json.loads(requests.get(i).text))\n",
    "#unnest dictionaries\n",
    "daily_data = [data[i]['daily']['data'][0] for i in range(len(data))]\n",
    "\n",
    "#extract precipitation type\n",
    "precipType = []\n",
    "for i in range(len(daily_data)):\n",
    "    if 'precipType' in daily_data[i].keys():\n",
    "        precipType.append(daily_data[i]['precipType'])\n",
    "    else:\n",
    "        precipType.append('0')\n",
    "\n",
    "#Create dataframe with dates and precipitation type\n",
    "weatherdf = pd.DataFrame(list(zip(dates, precipType)), \n",
    "               columns =['Date', 'Rain'])\n",
    "#change strings into rain dummy variable\n",
    "weatherdf['Rain']= weatherdf['Rain'].map({'0':0, 'rain':1, 'sleet':0, 'snow':0})\n",
    "\n"
   ]
  },
  {
   "cell_type": "code",
   "execution_count": null,
   "metadata": {},
   "outputs": [],
   "source": [
    "df = df.merge(weatherdf, on='Date', how='left')\n",
    "raindf = df[df['Rain']==1]\n",
    "\n",
    "dict_of_win_rain = {}\n",
    "for i in list(raindf.AwayTeam.unique()):\n",
    "    dict_of_win_rain.update({i: 0})\n",
    "for n in range(len(raindf)):\n",
    "    if raindf.FTR.iloc[n] == 'H':\n",
    "        dict_of_win_rain[raindf.HomeTeam.iloc[n]] += 1\n",
    "    elif df.FTR.iloc[n] == 'A':\n",
    "        dict_of_win_rain[raindf.AwayTeam.iloc[n]] += 1\n",
    "\n",
    "dict_of_loss_rain = {}\n",
    "for i in list(raindf.AwayTeam.unique()):\n",
    "    dict_of_loss_rain.update({i: 0})\n",
    "for n in range(len(raindf)):\n",
    "    if df.FTR.iloc[n] == 'H':\n",
    "        dict_of_loss_rain[raindf.AwayTeam.iloc[n]] += 1\n",
    "    elif df.FTR.iloc[n] == 'A':\n",
    "        dict_of_loss_rain[raindf.HomeTeam.iloc[n]] += 1\n",
    "\n",
    "dict_of_draw_rain = {}\n",
    "for i in list(raindf.AwayTeam.unique()):\n",
    "    dict_of_draw_rain.update({i: 0})\n",
    "for n in range(len(raindf)):\n",
    "    if raindf.FTR.iloc[n] == 'D':\n",
    "        dict_of_draw_rain[raindf.AwayTeam.iloc[n]] += 1\n",
    "        dict_of_draw_rain[raindf.HomeTeam.iloc[n]] += 1"
   ]
  },
  {
   "cell_type": "code",
   "execution_count": null,
   "metadata": {},
   "outputs": [],
   "source": [
    "finaldf = pd.DataFrame()\n",
    "finaldf['Team'] = dict_of_win.keys()\n",
    "finaldf['Wins_Overall'] = finaldf.Team.apply(lambda team: dict_of_win[team])\n",
    "finaldf['Wins_Rain'] = finaldf.Team.apply(lambda team: dict_of_win_rain[team])\n",
    "finaldf['Losses_Rain'] = finaldf.Team.apply(lambda team: dict_of_loss_rain[team])\n",
    "finaldf['Draws_Rain'] = finaldf.Team.apply(lambda team: dict_of_draw_rain[team])\n",
    "finaldf['Rain_Games'] = finaldf['Wins_Rain']+finaldf['Losses_Rain']+finaldf['Draws_Rain']\n",
    "finaldf['No_Rain_Games'] = 34 - finaldf['Rain_Games']\n",
    "finaldf['Wins_No_Rain'] = finaldf['Wins_Overall']-finaldf['Wins_Rain']\n",
    "finaldf['Rain_Win%'] = finaldf['Wins_Rain']/finaldf['Rain_Games']\n",
    "finaldf['No_Rain_Win%'] = finaldf['Wins_No_Rain']/finaldf['No_Rain_Games']\n",
    "finaldf['%Change_Rain_Win_Rate'] = (finaldf['Rain_Win%']- finaldf['No_Rain_Win%'])/finaldf['No_Rain_Win%']\n",
    "finaldf.head()"
   ]
  }
 ],
 "metadata": {
  "kernelspec": {
   "display_name": "Python 3",
   "language": "python",
   "name": "python3"
  },
  "language_info": {
   "codemirror_mode": {
    "name": "ipython",
    "version": 3
   },
   "file_extension": ".py",
   "mimetype": "text/x-python",
   "name": "python",
   "nbconvert_exporter": "python",
   "pygments_lexer": "ipython3",
   "version": "3.7.3"
  }
 },
 "nbformat": 4,
 "nbformat_minor": 2
}
