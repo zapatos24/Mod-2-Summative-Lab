{
 "cells": [
  {
   "cell_type": "markdown",
   "metadata": {},
   "source": [
    "# Mod 2 Summative Project - Soccer Match DB Transfer and Analysis"
   ]
  },
  {
   "cell_type": "markdown",
   "metadata": {},
   "source": [
    "Importing necessary libraries for work below:"
   ]
  },
  {
   "cell_type": "code",
   "execution_count": 1,
   "metadata": {},
   "outputs": [],
   "source": [
    "from SqlConn import SqlConn\n",
    "from MongoHandler import MongoHandler\n",
    "from PandaHandler import PandaHandler\n",
    "from RainDataImproved import RainData\n",
    "from dark_sky_api_remy import api_key as api_key\n",
    "import numpy as np\n",
    "import pandas as pd\n",
    "from matplotlib.image import imread\n",
    "import matplotlib.pyplot as plt\n",
    "%matplotlib inline"
   ]
  },
  {
   "cell_type": "markdown",
   "metadata": {},
   "source": [
    "#### Installing unlikely libraries for use in this notebook\n",
    "Not a part of the Anaconda distribution"
   ]
  },
  {
   "cell_type": "code",
   "execution_count": 3,
   "metadata": {},
   "outputs": [
    {
     "name": "stdout",
     "output_type": "stream",
     "text": [
      "Requirement already satisfied: timezonefinder in /anaconda3/lib/python3.7/site-packages (4.0.3)\n",
      "Requirement already satisfied: importlib-resources in /anaconda3/lib/python3.7/site-packages (from timezonefinder) (1.0.2)\n",
      "Requirement already satisfied: numpy in /anaconda3/lib/python3.7/site-packages (from timezonefinder) (1.16.2)\n"
     ]
    }
   ],
   "source": [
    "!pip install timezonefinder"
   ]
  },
  {
   "cell_type": "code",
   "execution_count": 4,
   "metadata": {},
   "outputs": [
    {
     "name": "stdout",
     "output_type": "stream",
     "text": [
      "Requirement already satisfied: geopy in /anaconda3/lib/python3.7/site-packages (1.20.0)\n",
      "Requirement already satisfied: geographiclib<2,>=1.49 in /anaconda3/lib/python3.7/site-packages (from geopy) (1.49)\n"
     ]
    }
   ],
   "source": [
    "!pip install geopy"
   ]
  },
  {
   "cell_type": "markdown",
   "metadata": {},
   "source": [
    "## Making a connection to the SQL Database and getting back a Pandas DataFrame"
   ]
  },
  {
   "cell_type": "code",
   "execution_count": 5,
   "metadata": {},
   "outputs": [
    {
     "name": "stdout",
     "output_type": "stream",
     "text": [
      "Connection status: Active\n"
     ]
    }
   ],
   "source": [
    "sql = SqlConn('database.sqlite')"
   ]
  },
  {
   "cell_type": "code",
   "execution_count": 6,
   "metadata": {},
   "outputs": [
    {
     "name": "stdout",
     "output_type": "stream",
     "text": [
      "Connection status: Active\n"
     ]
    },
    {
     "data": {
      "text/html": [
       "<div>\n",
       "<style scoped>\n",
       "    .dataframe tbody tr th:only-of-type {\n",
       "        vertical-align: middle;\n",
       "    }\n",
       "\n",
       "    .dataframe tbody tr th {\n",
       "        vertical-align: top;\n",
       "    }\n",
       "\n",
       "    .dataframe thead th {\n",
       "        text-align: right;\n",
       "    }\n",
       "</style>\n",
       "<table border=\"1\" class=\"dataframe\">\n",
       "  <thead>\n",
       "    <tr style=\"text-align: right;\">\n",
       "      <th></th>\n",
       "      <th>Match_ID</th>\n",
       "      <th>Div</th>\n",
       "      <th>Season</th>\n",
       "      <th>Date</th>\n",
       "      <th>HomeTeam</th>\n",
       "      <th>AwayTeam</th>\n",
       "      <th>FTHG</th>\n",
       "      <th>FTAG</th>\n",
       "      <th>FTR</th>\n",
       "    </tr>\n",
       "  </thead>\n",
       "  <tbody>\n",
       "    <tr>\n",
       "      <th>0</th>\n",
       "      <td>1133</td>\n",
       "      <td>D2</td>\n",
       "      <td>2011</td>\n",
       "      <td>2011-07-15</td>\n",
       "      <td>Cottbus</td>\n",
       "      <td>Dresden</td>\n",
       "      <td>2</td>\n",
       "      <td>1</td>\n",
       "      <td>H</td>\n",
       "    </tr>\n",
       "    <tr>\n",
       "      <th>1</th>\n",
       "      <td>1167</td>\n",
       "      <td>D2</td>\n",
       "      <td>2011</td>\n",
       "      <td>2011-07-15</td>\n",
       "      <td>Greuther Furth</td>\n",
       "      <td>Ein Frankfurt</td>\n",
       "      <td>2</td>\n",
       "      <td>3</td>\n",
       "      <td>A</td>\n",
       "    </tr>\n",
       "    <tr>\n",
       "      <th>2</th>\n",
       "      <td>1551</td>\n",
       "      <td>D2</td>\n",
       "      <td>2011</td>\n",
       "      <td>2011-07-15</td>\n",
       "      <td>Frankfurt FSV</td>\n",
       "      <td>Union Berlin</td>\n",
       "      <td>1</td>\n",
       "      <td>1</td>\n",
       "      <td>D</td>\n",
       "    </tr>\n",
       "    <tr>\n",
       "      <th>3</th>\n",
       "      <td>1550</td>\n",
       "      <td>D2</td>\n",
       "      <td>2011</td>\n",
       "      <td>2011-07-16</td>\n",
       "      <td>Erzgebirge Aue</td>\n",
       "      <td>Aachen</td>\n",
       "      <td>1</td>\n",
       "      <td>0</td>\n",
       "      <td>H</td>\n",
       "    </tr>\n",
       "    <tr>\n",
       "      <th>4</th>\n",
       "      <td>1678</td>\n",
       "      <td>D2</td>\n",
       "      <td>2011</td>\n",
       "      <td>2011-07-16</td>\n",
       "      <td>St Pauli</td>\n",
       "      <td>Ingolstadt</td>\n",
       "      <td>2</td>\n",
       "      <td>0</td>\n",
       "      <td>H</td>\n",
       "    </tr>\n",
       "  </tbody>\n",
       "</table>\n",
       "</div>"
      ],
      "text/plain": [
       "   Match_ID Div  Season        Date        HomeTeam       AwayTeam  FTHG  \\\n",
       "0      1133  D2    2011  2011-07-15         Cottbus        Dresden     2   \n",
       "1      1167  D2    2011  2011-07-15  Greuther Furth  Ein Frankfurt     2   \n",
       "2      1551  D2    2011  2011-07-15   Frankfurt FSV   Union Berlin     1   \n",
       "3      1550  D2    2011  2011-07-16  Erzgebirge Aue         Aachen     1   \n",
       "4      1678  D2    2011  2011-07-16        St Pauli     Ingolstadt     2   \n",
       "\n",
       "   FTAG FTR  \n",
       "0     1   H  \n",
       "1     3   A  \n",
       "2     1   D  \n",
       "3     0   H  \n",
       "4     0   H  "
      ]
     },
     "execution_count": 6,
     "metadata": {},
     "output_type": "execute_result"
    }
   ],
   "source": [
    "df = sql.matches_df([2011])\n",
    "df.head()"
   ]
  },
  {
   "cell_type": "markdown",
   "metadata": {},
   "source": [
    "### Be sure to close your connection when done querying the Database!"
   ]
  },
  {
   "cell_type": "code",
   "execution_count": 7,
   "metadata": {},
   "outputs": [
    {
     "name": "stdout",
     "output_type": "stream",
     "text": [
      "Closing connection\n",
      "Connection status: Closed\n"
     ]
    }
   ],
   "source": [
    "sql.close_conn()"
   ]
  },
  {
   "cell_type": "markdown",
   "metadata": {},
   "source": [
    "## Working with the Pandas DataFrame - EDA"
   ]
  },
  {
   "cell_type": "code",
   "execution_count": 8,
   "metadata": {},
   "outputs": [
    {
     "data": {
      "text/html": [
       "<div>\n",
       "<style scoped>\n",
       "    .dataframe tbody tr th:only-of-type {\n",
       "        vertical-align: middle;\n",
       "    }\n",
       "\n",
       "    .dataframe tbody tr th {\n",
       "        vertical-align: top;\n",
       "    }\n",
       "\n",
       "    .dataframe thead th {\n",
       "        text-align: right;\n",
       "    }\n",
       "</style>\n",
       "<table border=\"1\" class=\"dataframe\">\n",
       "  <thead>\n",
       "    <tr style=\"text-align: right;\">\n",
       "      <th></th>\n",
       "      <th>Match_ID</th>\n",
       "      <th>Div</th>\n",
       "      <th>Season</th>\n",
       "      <th>Date</th>\n",
       "      <th>HomeTeam</th>\n",
       "      <th>AwayTeam</th>\n",
       "      <th>FTHG</th>\n",
       "      <th>FTAG</th>\n",
       "      <th>FTR</th>\n",
       "      <th>tot_home_goals</th>\n",
       "    </tr>\n",
       "  </thead>\n",
       "  <tbody>\n",
       "    <tr>\n",
       "      <th>0</th>\n",
       "      <td>1133</td>\n",
       "      <td>D2</td>\n",
       "      <td>2011</td>\n",
       "      <td>2011-07-15</td>\n",
       "      <td>Cottbus</td>\n",
       "      <td>Dresden</td>\n",
       "      <td>2</td>\n",
       "      <td>1</td>\n",
       "      <td>H</td>\n",
       "      <td>30</td>\n",
       "    </tr>\n",
       "    <tr>\n",
       "      <th>1</th>\n",
       "      <td>1167</td>\n",
       "      <td>D2</td>\n",
       "      <td>2011</td>\n",
       "      <td>2011-07-15</td>\n",
       "      <td>Greuther Furth</td>\n",
       "      <td>Ein Frankfurt</td>\n",
       "      <td>2</td>\n",
       "      <td>3</td>\n",
       "      <td>A</td>\n",
       "      <td>73</td>\n",
       "    </tr>\n",
       "    <tr>\n",
       "      <th>2</th>\n",
       "      <td>1551</td>\n",
       "      <td>D2</td>\n",
       "      <td>2011</td>\n",
       "      <td>2011-07-15</td>\n",
       "      <td>Frankfurt FSV</td>\n",
       "      <td>Union Berlin</td>\n",
       "      <td>1</td>\n",
       "      <td>1</td>\n",
       "      <td>D</td>\n",
       "      <td>43</td>\n",
       "    </tr>\n",
       "    <tr>\n",
       "      <th>3</th>\n",
       "      <td>1550</td>\n",
       "      <td>D2</td>\n",
       "      <td>2011</td>\n",
       "      <td>2011-07-16</td>\n",
       "      <td>Erzgebirge Aue</td>\n",
       "      <td>Aachen</td>\n",
       "      <td>1</td>\n",
       "      <td>0</td>\n",
       "      <td>H</td>\n",
       "      <td>31</td>\n",
       "    </tr>\n",
       "    <tr>\n",
       "      <th>4</th>\n",
       "      <td>1678</td>\n",
       "      <td>D2</td>\n",
       "      <td>2011</td>\n",
       "      <td>2011-07-16</td>\n",
       "      <td>St Pauli</td>\n",
       "      <td>Ingolstadt</td>\n",
       "      <td>2</td>\n",
       "      <td>0</td>\n",
       "      <td>H</td>\n",
       "      <td>59</td>\n",
       "    </tr>\n",
       "  </tbody>\n",
       "</table>\n",
       "</div>"
      ],
      "text/plain": [
       "   Match_ID Div  Season        Date        HomeTeam       AwayTeam  FTHG  \\\n",
       "0      1133  D2    2011  2011-07-15         Cottbus        Dresden     2   \n",
       "1      1167  D2    2011  2011-07-15  Greuther Furth  Ein Frankfurt     2   \n",
       "2      1551  D2    2011  2011-07-15   Frankfurt FSV   Union Berlin     1   \n",
       "3      1550  D2    2011  2011-07-16  Erzgebirge Aue         Aachen     1   \n",
       "4      1678  D2    2011  2011-07-16        St Pauli     Ingolstadt     2   \n",
       "\n",
       "   FTAG FTR  tot_home_goals  \n",
       "0     1   H              30  \n",
       "1     3   A              73  \n",
       "2     1   D              43  \n",
       "3     0   H              31  \n",
       "4     0   H              59  "
      ]
     },
     "execution_count": 8,
     "metadata": {},
     "output_type": "execute_result"
    }
   ],
   "source": [
    "df = PandaHandler.tot_home_goals_scored(df)\n",
    "df.head()"
   ]
  },
  {
   "cell_type": "code",
   "execution_count": 9,
   "metadata": {},
   "outputs": [
    {
     "data": {
      "text/html": [
       "<div>\n",
       "<style scoped>\n",
       "    .dataframe tbody tr th:only-of-type {\n",
       "        vertical-align: middle;\n",
       "    }\n",
       "\n",
       "    .dataframe tbody tr th {\n",
       "        vertical-align: top;\n",
       "    }\n",
       "\n",
       "    .dataframe thead th {\n",
       "        text-align: right;\n",
       "    }\n",
       "</style>\n",
       "<table border=\"1\" class=\"dataframe\">\n",
       "  <thead>\n",
       "    <tr style=\"text-align: right;\">\n",
       "      <th></th>\n",
       "      <th>Match_ID</th>\n",
       "      <th>Div</th>\n",
       "      <th>Season</th>\n",
       "      <th>Date</th>\n",
       "      <th>HomeTeam</th>\n",
       "      <th>AwayTeam</th>\n",
       "      <th>FTHG</th>\n",
       "      <th>FTAG</th>\n",
       "      <th>FTR</th>\n",
       "      <th>tot_home_goals</th>\n",
       "      <th>HomeWin</th>\n",
       "      <th>AwayWin</th>\n",
       "      <th>tot_home_win</th>\n",
       "      <th>HomeLoss</th>\n",
       "      <th>AwayLoss</th>\n",
       "      <th>tot_home_loss</th>\n",
       "      <th>HomeDraw</th>\n",
       "      <th>AwayDraw</th>\n",
       "      <th>tot_home_draw</th>\n",
       "    </tr>\n",
       "  </thead>\n",
       "  <tbody>\n",
       "    <tr>\n",
       "      <th>0</th>\n",
       "      <td>1133</td>\n",
       "      <td>D2</td>\n",
       "      <td>2011</td>\n",
       "      <td>2011-07-15</td>\n",
       "      <td>Cottbus</td>\n",
       "      <td>Dresden</td>\n",
       "      <td>2</td>\n",
       "      <td>1</td>\n",
       "      <td>H</td>\n",
       "      <td>30</td>\n",
       "      <td>1</td>\n",
       "      <td>0</td>\n",
       "      <td>8</td>\n",
       "      <td>0</td>\n",
       "      <td>1</td>\n",
       "      <td>15</td>\n",
       "      <td>0</td>\n",
       "      <td>0</td>\n",
       "      <td>11</td>\n",
       "    </tr>\n",
       "    <tr>\n",
       "      <th>1</th>\n",
       "      <td>1167</td>\n",
       "      <td>D2</td>\n",
       "      <td>2011</td>\n",
       "      <td>2011-07-15</td>\n",
       "      <td>Greuther Furth</td>\n",
       "      <td>Ein Frankfurt</td>\n",
       "      <td>2</td>\n",
       "      <td>3</td>\n",
       "      <td>A</td>\n",
       "      <td>73</td>\n",
       "      <td>0</td>\n",
       "      <td>1</td>\n",
       "      <td>20</td>\n",
       "      <td>1</td>\n",
       "      <td>0</td>\n",
       "      <td>4</td>\n",
       "      <td>0</td>\n",
       "      <td>0</td>\n",
       "      <td>10</td>\n",
       "    </tr>\n",
       "    <tr>\n",
       "      <th>2</th>\n",
       "      <td>1551</td>\n",
       "      <td>D2</td>\n",
       "      <td>2011</td>\n",
       "      <td>2011-07-15</td>\n",
       "      <td>Frankfurt FSV</td>\n",
       "      <td>Union Berlin</td>\n",
       "      <td>1</td>\n",
       "      <td>1</td>\n",
       "      <td>D</td>\n",
       "      <td>43</td>\n",
       "      <td>0</td>\n",
       "      <td>0</td>\n",
       "      <td>7</td>\n",
       "      <td>0</td>\n",
       "      <td>0</td>\n",
       "      <td>13</td>\n",
       "      <td>1</td>\n",
       "      <td>1</td>\n",
       "      <td>14</td>\n",
       "    </tr>\n",
       "    <tr>\n",
       "      <th>3</th>\n",
       "      <td>1550</td>\n",
       "      <td>D2</td>\n",
       "      <td>2011</td>\n",
       "      <td>2011-07-16</td>\n",
       "      <td>Erzgebirge Aue</td>\n",
       "      <td>Aachen</td>\n",
       "      <td>1</td>\n",
       "      <td>0</td>\n",
       "      <td>H</td>\n",
       "      <td>31</td>\n",
       "      <td>1</td>\n",
       "      <td>0</td>\n",
       "      <td>8</td>\n",
       "      <td>0</td>\n",
       "      <td>1</td>\n",
       "      <td>15</td>\n",
       "      <td>0</td>\n",
       "      <td>0</td>\n",
       "      <td>11</td>\n",
       "    </tr>\n",
       "    <tr>\n",
       "      <th>4</th>\n",
       "      <td>1678</td>\n",
       "      <td>D2</td>\n",
       "      <td>2011</td>\n",
       "      <td>2011-07-16</td>\n",
       "      <td>St Pauli</td>\n",
       "      <td>Ingolstadt</td>\n",
       "      <td>2</td>\n",
       "      <td>0</td>\n",
       "      <td>H</td>\n",
       "      <td>59</td>\n",
       "      <td>1</td>\n",
       "      <td>0</td>\n",
       "      <td>18</td>\n",
       "      <td>0</td>\n",
       "      <td>1</td>\n",
       "      <td>8</td>\n",
       "      <td>0</td>\n",
       "      <td>0</td>\n",
       "      <td>8</td>\n",
       "    </tr>\n",
       "  </tbody>\n",
       "</table>\n",
       "</div>"
      ],
      "text/plain": [
       "   Match_ID Div  Season        Date        HomeTeam       AwayTeam  FTHG  \\\n",
       "0      1133  D2    2011  2011-07-15         Cottbus        Dresden     2   \n",
       "1      1167  D2    2011  2011-07-15  Greuther Furth  Ein Frankfurt     2   \n",
       "2      1551  D2    2011  2011-07-15   Frankfurt FSV   Union Berlin     1   \n",
       "3      1550  D2    2011  2011-07-16  Erzgebirge Aue         Aachen     1   \n",
       "4      1678  D2    2011  2011-07-16        St Pauli     Ingolstadt     2   \n",
       "\n",
       "   FTAG FTR  tot_home_goals  HomeWin  AwayWin  tot_home_win  HomeLoss  \\\n",
       "0     1   H              30        1        0             8         0   \n",
       "1     3   A              73        0        1            20         1   \n",
       "2     1   D              43        0        0             7         0   \n",
       "3     0   H              31        1        0             8         0   \n",
       "4     0   H              59        1        0            18         0   \n",
       "\n",
       "   AwayLoss  tot_home_loss  HomeDraw  AwayDraw  tot_home_draw  \n",
       "0         1             15         0         0             11  \n",
       "1         0              4         0         0             10  \n",
       "2         0             13         1         1             14  \n",
       "3         1             15         0         0             11  \n",
       "4         1              8         0         0              8  "
      ]
     },
     "execution_count": 9,
     "metadata": {},
     "output_type": "execute_result"
    }
   ],
   "source": [
    "df = PandaHandler.win_loss_draw(df)\n",
    "df.head()"
   ]
  },
  {
   "cell_type": "markdown",
   "metadata": {},
   "source": [
    "## Querying the Dark Sky API"
   ]
  },
  {
   "cell_type": "markdown",
   "metadata": {},
   "source": [
    "Beware, this returns ~290 entries, and with Dark Sky API limits, you can only query 1000 entries per day. Should you exceed limits, please use a new API key"
   ]
  },
  {
   "cell_type": "code",
   "execution_count": 7,
   "metadata": {},
   "outputs": [],
   "source": [
    "raindata = RainData(df.iloc[0].Date, df.iloc[-1].Date)"
   ]
  },
  {
   "cell_type": "code",
   "execution_count": 8,
   "metadata": {},
   "outputs": [],
   "source": [
    "raindf = raindata.get_rain_df(api_key)"
   ]
  },
  {
   "cell_type": "code",
   "execution_count": 9,
   "metadata": {},
   "outputs": [
    {
     "data": {
      "text/html": [
       "<div>\n",
       "<style scoped>\n",
       "    .dataframe tbody tr th:only-of-type {\n",
       "        vertical-align: middle;\n",
       "    }\n",
       "\n",
       "    .dataframe tbody tr th {\n",
       "        vertical-align: top;\n",
       "    }\n",
       "\n",
       "    .dataframe thead th {\n",
       "        text-align: right;\n",
       "    }\n",
       "</style>\n",
       "<table border=\"1\" class=\"dataframe\">\n",
       "  <thead>\n",
       "    <tr style=\"text-align: right;\">\n",
       "      <th></th>\n",
       "      <th>Date</th>\n",
       "      <th>Rain</th>\n",
       "    </tr>\n",
       "  </thead>\n",
       "  <tbody>\n",
       "    <tr>\n",
       "      <th>0</th>\n",
       "      <td>2011-07-15</td>\n",
       "      <td>0</td>\n",
       "    </tr>\n",
       "    <tr>\n",
       "      <th>1</th>\n",
       "      <td>2011-07-16</td>\n",
       "      <td>0</td>\n",
       "    </tr>\n",
       "    <tr>\n",
       "      <th>2</th>\n",
       "      <td>2011-07-17</td>\n",
       "      <td>1</td>\n",
       "    </tr>\n",
       "    <tr>\n",
       "      <th>3</th>\n",
       "      <td>2011-07-18</td>\n",
       "      <td>1</td>\n",
       "    </tr>\n",
       "    <tr>\n",
       "      <th>4</th>\n",
       "      <td>2011-07-19</td>\n",
       "      <td>0</td>\n",
       "    </tr>\n",
       "  </tbody>\n",
       "</table>\n",
       "</div>"
      ],
      "text/plain": [
       "         Date  Rain\n",
       "0  2011-07-15     0\n",
       "1  2011-07-16     0\n",
       "2  2011-07-17     1\n",
       "3  2011-07-18     1\n",
       "4  2011-07-19     0"
      ]
     },
     "execution_count": 9,
     "metadata": {},
     "output_type": "execute_result"
    }
   ],
   "source": [
    "raindf.head()"
   ]
  },
  {
   "cell_type": "markdown",
   "metadata": {},
   "source": [
    "### Store the queried data from Dark Sky for use later \n",
    "(so if issues arise, you don't need to query again)"
   ]
  },
  {
   "cell_type": "code",
   "execution_count": null,
   "metadata": {},
   "outputs": [],
   "source": [
    "raindf.to_pickle('pickled_rain_df.pkl')"
   ]
  },
  {
   "cell_type": "markdown",
   "metadata": {},
   "source": [
    " "
   ]
  },
  {
   "cell_type": "markdown",
   "metadata": {},
   "source": [
    "Read back in the Pandas Dataframe for use below"
   ]
  },
  {
   "cell_type": "markdown",
   "metadata": {},
   "source": [
    " "
   ]
  },
  {
   "cell_type": "code",
   "execution_count": 10,
   "metadata": {},
   "outputs": [],
   "source": [
    "raindf = pd.read_pickle('pickled_rain_df.pkl')"
   ]
  },
  {
   "cell_type": "code",
   "execution_count": 11,
   "metadata": {},
   "outputs": [
    {
     "data": {
      "text/html": [
       "<div>\n",
       "<style scoped>\n",
       "    .dataframe tbody tr th:only-of-type {\n",
       "        vertical-align: middle;\n",
       "    }\n",
       "\n",
       "    .dataframe tbody tr th {\n",
       "        vertical-align: top;\n",
       "    }\n",
       "\n",
       "    .dataframe thead th {\n",
       "        text-align: right;\n",
       "    }\n",
       "</style>\n",
       "<table border=\"1\" class=\"dataframe\">\n",
       "  <thead>\n",
       "    <tr style=\"text-align: right;\">\n",
       "      <th></th>\n",
       "      <th>Date</th>\n",
       "      <th>Rain</th>\n",
       "    </tr>\n",
       "  </thead>\n",
       "  <tbody>\n",
       "    <tr>\n",
       "      <th>0</th>\n",
       "      <td>2011-07-15</td>\n",
       "      <td>0</td>\n",
       "    </tr>\n",
       "    <tr>\n",
       "      <th>1</th>\n",
       "      <td>2011-07-16</td>\n",
       "      <td>0</td>\n",
       "    </tr>\n",
       "    <tr>\n",
       "      <th>2</th>\n",
       "      <td>2011-07-17</td>\n",
       "      <td>1</td>\n",
       "    </tr>\n",
       "    <tr>\n",
       "      <th>3</th>\n",
       "      <td>2011-07-18</td>\n",
       "      <td>1</td>\n",
       "    </tr>\n",
       "    <tr>\n",
       "      <th>4</th>\n",
       "      <td>2011-07-19</td>\n",
       "      <td>0</td>\n",
       "    </tr>\n",
       "  </tbody>\n",
       "</table>\n",
       "</div>"
      ],
      "text/plain": [
       "         Date  Rain\n",
       "0  2011-07-15     0\n",
       "1  2011-07-16     0\n",
       "2  2011-07-17     1\n",
       "3  2011-07-18     1\n",
       "4  2011-07-19     0"
      ]
     },
     "execution_count": 11,
     "metadata": {},
     "output_type": "execute_result"
    }
   ],
   "source": [
    "raindf.head()"
   ]
  },
  {
   "cell_type": "code",
   "execution_count": 12,
   "metadata": {},
   "outputs": [
    {
     "name": "stdout",
     "output_type": "stream",
     "text": [
      "Total Number of Games: 34\n"
     ]
    },
    {
     "data": {
      "text/html": [
       "<div>\n",
       "<style scoped>\n",
       "    .dataframe tbody tr th:only-of-type {\n",
       "        vertical-align: middle;\n",
       "    }\n",
       "\n",
       "    .dataframe tbody tr th {\n",
       "        vertical-align: top;\n",
       "    }\n",
       "\n",
       "    .dataframe thead th {\n",
       "        text-align: right;\n",
       "    }\n",
       "</style>\n",
       "<table border=\"1\" class=\"dataframe\">\n",
       "  <thead>\n",
       "    <tr style=\"text-align: right;\">\n",
       "      <th></th>\n",
       "      <th>Season</th>\n",
       "      <th>GoalsScored</th>\n",
       "      <th>Wins</th>\n",
       "      <th>Losses</th>\n",
       "      <th>Draws</th>\n",
       "      <th>RainGames</th>\n",
       "      <th>RainWins</th>\n",
       "      <th>NonRainWins</th>\n",
       "      <th>RainWin%</th>\n",
       "      <th>NonRainWin%</th>\n",
       "      <th>%ChangeWinWithRain</th>\n",
       "    </tr>\n",
       "    <tr>\n",
       "      <th>Team</th>\n",
       "      <th></th>\n",
       "      <th></th>\n",
       "      <th></th>\n",
       "      <th></th>\n",
       "      <th></th>\n",
       "      <th></th>\n",
       "      <th></th>\n",
       "      <th></th>\n",
       "      <th></th>\n",
       "      <th></th>\n",
       "      <th></th>\n",
       "    </tr>\n",
       "  </thead>\n",
       "  <tbody>\n",
       "    <tr>\n",
       "      <th>Aachen</th>\n",
       "      <td>2011</td>\n",
       "      <td>30</td>\n",
       "      <td>6</td>\n",
       "      <td>15</td>\n",
       "      <td>13</td>\n",
       "      <td>12.0</td>\n",
       "      <td>2</td>\n",
       "      <td>4</td>\n",
       "      <td>0.166667</td>\n",
       "      <td>0.181818</td>\n",
       "      <td>-0.083333</td>\n",
       "    </tr>\n",
       "    <tr>\n",
       "      <th>Augsburg</th>\n",
       "      <td>2011</td>\n",
       "      <td>36</td>\n",
       "      <td>8</td>\n",
       "      <td>12</td>\n",
       "      <td>14</td>\n",
       "      <td>11.0</td>\n",
       "      <td>4</td>\n",
       "      <td>4</td>\n",
       "      <td>0.363636</td>\n",
       "      <td>0.173913</td>\n",
       "      <td>1.090909</td>\n",
       "    </tr>\n",
       "    <tr>\n",
       "      <th>Bayern Munich</th>\n",
       "      <td>2011</td>\n",
       "      <td>77</td>\n",
       "      <td>23</td>\n",
       "      <td>7</td>\n",
       "      <td>4</td>\n",
       "      <td>11.0</td>\n",
       "      <td>8</td>\n",
       "      <td>15</td>\n",
       "      <td>0.727273</td>\n",
       "      <td>0.652174</td>\n",
       "      <td>0.115152</td>\n",
       "    </tr>\n",
       "    <tr>\n",
       "      <th>Bochum</th>\n",
       "      <td>2011</td>\n",
       "      <td>41</td>\n",
       "      <td>10</td>\n",
       "      <td>17</td>\n",
       "      <td>7</td>\n",
       "      <td>10.0</td>\n",
       "      <td>3</td>\n",
       "      <td>7</td>\n",
       "      <td>0.300000</td>\n",
       "      <td>0.291667</td>\n",
       "      <td>0.028571</td>\n",
       "    </tr>\n",
       "    <tr>\n",
       "      <th>Braunschweig</th>\n",
       "      <td>2011</td>\n",
       "      <td>37</td>\n",
       "      <td>10</td>\n",
       "      <td>9</td>\n",
       "      <td>15</td>\n",
       "      <td>8.0</td>\n",
       "      <td>3</td>\n",
       "      <td>7</td>\n",
       "      <td>0.375000</td>\n",
       "      <td>0.269231</td>\n",
       "      <td>0.392857</td>\n",
       "    </tr>\n",
       "    <tr>\n",
       "      <th>Cottbus</th>\n",
       "      <td>2011</td>\n",
       "      <td>30</td>\n",
       "      <td>8</td>\n",
       "      <td>15</td>\n",
       "      <td>11</td>\n",
       "      <td>9.0</td>\n",
       "      <td>2</td>\n",
       "      <td>6</td>\n",
       "      <td>0.222222</td>\n",
       "      <td>0.240000</td>\n",
       "      <td>-0.074074</td>\n",
       "    </tr>\n",
       "    <tr>\n",
       "      <th>Dortmund</th>\n",
       "      <td>2011</td>\n",
       "      <td>80</td>\n",
       "      <td>25</td>\n",
       "      <td>3</td>\n",
       "      <td>6</td>\n",
       "      <td>10.0</td>\n",
       "      <td>6</td>\n",
       "      <td>19</td>\n",
       "      <td>0.600000</td>\n",
       "      <td>0.791667</td>\n",
       "      <td>-0.242105</td>\n",
       "    </tr>\n",
       "    <tr>\n",
       "      <th>Dresden</th>\n",
       "      <td>2011</td>\n",
       "      <td>50</td>\n",
       "      <td>12</td>\n",
       "      <td>13</td>\n",
       "      <td>9</td>\n",
       "      <td>8.0</td>\n",
       "      <td>3</td>\n",
       "      <td>9</td>\n",
       "      <td>0.375000</td>\n",
       "      <td>0.346154</td>\n",
       "      <td>0.083333</td>\n",
       "    </tr>\n",
       "    <tr>\n",
       "      <th>Duisburg</th>\n",
       "      <td>2011</td>\n",
       "      <td>42</td>\n",
       "      <td>10</td>\n",
       "      <td>15</td>\n",
       "      <td>9</td>\n",
       "      <td>15.0</td>\n",
       "      <td>4</td>\n",
       "      <td>6</td>\n",
       "      <td>0.266667</td>\n",
       "      <td>0.315789</td>\n",
       "      <td>-0.155556</td>\n",
       "    </tr>\n",
       "    <tr>\n",
       "      <th>Ein Frankfurt</th>\n",
       "      <td>2011</td>\n",
       "      <td>76</td>\n",
       "      <td>20</td>\n",
       "      <td>6</td>\n",
       "      <td>8</td>\n",
       "      <td>8.0</td>\n",
       "      <td>3</td>\n",
       "      <td>17</td>\n",
       "      <td>0.375000</td>\n",
       "      <td>0.653846</td>\n",
       "      <td>-0.426471</td>\n",
       "    </tr>\n",
       "  </tbody>\n",
       "</table>\n",
       "</div>"
      ],
      "text/plain": [
       "               Season  GoalsScored  Wins  Losses  Draws  RainGames  RainWins  \\\n",
       "Team                                                                           \n",
       "Aachen           2011           30     6      15     13       12.0         2   \n",
       "Augsburg         2011           36     8      12     14       11.0         4   \n",
       "Bayern Munich    2011           77    23       7      4       11.0         8   \n",
       "Bochum           2011           41    10      17      7       10.0         3   \n",
       "Braunschweig     2011           37    10       9     15        8.0         3   \n",
       "Cottbus          2011           30     8      15     11        9.0         2   \n",
       "Dortmund         2011           80    25       3      6       10.0         6   \n",
       "Dresden          2011           50    12      13      9        8.0         3   \n",
       "Duisburg         2011           42    10      15      9       15.0         4   \n",
       "Ein Frankfurt    2011           76    20       6      8        8.0         3   \n",
       "\n",
       "               NonRainWins  RainWin%  NonRainWin%  %ChangeWinWithRain  \n",
       "Team                                                                   \n",
       "Aachen                   4  0.166667     0.181818           -0.083333  \n",
       "Augsburg                 4  0.363636     0.173913            1.090909  \n",
       "Bayern Munich           15  0.727273     0.652174            0.115152  \n",
       "Bochum                   7  0.300000     0.291667            0.028571  \n",
       "Braunschweig             7  0.375000     0.269231            0.392857  \n",
       "Cottbus                  6  0.222222     0.240000           -0.074074  \n",
       "Dortmund                19  0.600000     0.791667           -0.242105  \n",
       "Dresden                  9  0.375000     0.346154            0.083333  \n",
       "Duisburg                 6  0.266667     0.315789           -0.155556  \n",
       "Ein Frankfurt           17  0.375000     0.653846           -0.426471  "
      ]
     },
     "execution_count": 12,
     "metadata": {},
     "output_type": "execute_result"
    }
   ],
   "source": [
    "df_all_data = PandaHandler.rain_results(df, raindf)\n",
    "df_all_data.head(10)"
   ]
  },
  {
   "cell_type": "markdown",
   "metadata": {},
   "source": [
    "### Create all images in local folder for input into MongoDB"
   ]
  },
  {
   "cell_type": "code",
   "execution_count": 13,
   "metadata": {},
   "outputs": [
    {
     "data": {
      "text/plain": [
       "<Figure size 432x288 with 0 Axes>"
      ]
     },
     "metadata": {},
     "output_type": "display_data"
    }
   ],
   "source": [
    "season = str(int(df_all_data.iloc[0].Season))\n",
    "cols = ['Wins', 'Losses', 'Draws']\n",
    "bar_x = [season+'_Wins', season+'_Losses', season+'_Draws']\n",
    "\n",
    "for i in range(len(df_all_data)):\n",
    "    bar_y = list(df_all_data[cols].iloc[i])\n",
    "    team_name = df_all_data.index[i]\n",
    "    plt.bar(x=bar_x, height=bar_y)\n",
    "    plt.title(team_name)\n",
    "    plt.savefig('hist_images/{}.png'.format(team_name))\n",
    "    plt.clf()"
   ]
  },
  {
   "cell_type": "markdown",
   "metadata": {},
   "source": [
    "#### Turns all images into numpy arrays, then cast as a list, for MongoDB interpretation"
   ]
  },
  {
   "cell_type": "code",
   "execution_count": 14,
   "metadata": {},
   "outputs": [
    {
     "data": {
      "text/html": [
       "<div>\n",
       "<style scoped>\n",
       "    .dataframe tbody tr th:only-of-type {\n",
       "        vertical-align: middle;\n",
       "    }\n",
       "\n",
       "    .dataframe tbody tr th {\n",
       "        vertical-align: top;\n",
       "    }\n",
       "\n",
       "    .dataframe thead th {\n",
       "        text-align: right;\n",
       "    }\n",
       "</style>\n",
       "<table border=\"1\" class=\"dataframe\">\n",
       "  <thead>\n",
       "    <tr style=\"text-align: right;\">\n",
       "      <th></th>\n",
       "      <th>Season</th>\n",
       "      <th>GoalsScored</th>\n",
       "      <th>Wins</th>\n",
       "      <th>Losses</th>\n",
       "      <th>Draws</th>\n",
       "      <th>RainGames</th>\n",
       "      <th>RainWins</th>\n",
       "      <th>NonRainWins</th>\n",
       "      <th>RainWin%</th>\n",
       "      <th>NonRainWin%</th>\n",
       "      <th>%ChangeWinWithRain</th>\n",
       "      <th>graph</th>\n",
       "    </tr>\n",
       "    <tr>\n",
       "      <th>Team</th>\n",
       "      <th></th>\n",
       "      <th></th>\n",
       "      <th></th>\n",
       "      <th></th>\n",
       "      <th></th>\n",
       "      <th></th>\n",
       "      <th></th>\n",
       "      <th></th>\n",
       "      <th></th>\n",
       "      <th></th>\n",
       "      <th></th>\n",
       "      <th></th>\n",
       "    </tr>\n",
       "  </thead>\n",
       "  <tbody>\n",
       "    <tr>\n",
       "      <th>Aachen</th>\n",
       "      <td>2011</td>\n",
       "      <td>30</td>\n",
       "      <td>6</td>\n",
       "      <td>15</td>\n",
       "      <td>13</td>\n",
       "      <td>12.0</td>\n",
       "      <td>2</td>\n",
       "      <td>4</td>\n",
       "      <td>0.166667</td>\n",
       "      <td>0.181818</td>\n",
       "      <td>-0.083333</td>\n",
       "      <td>[[[1.0, 1.0, 1.0, 1.0], [1.0, 1.0, 1.0, 1.0], ...</td>\n",
       "    </tr>\n",
       "    <tr>\n",
       "      <th>Augsburg</th>\n",
       "      <td>2011</td>\n",
       "      <td>36</td>\n",
       "      <td>8</td>\n",
       "      <td>12</td>\n",
       "      <td>14</td>\n",
       "      <td>11.0</td>\n",
       "      <td>4</td>\n",
       "      <td>4</td>\n",
       "      <td>0.363636</td>\n",
       "      <td>0.173913</td>\n",
       "      <td>1.090909</td>\n",
       "      <td>[[[1.0, 1.0, 1.0, 1.0], [1.0, 1.0, 1.0, 1.0], ...</td>\n",
       "    </tr>\n",
       "    <tr>\n",
       "      <th>Bayern Munich</th>\n",
       "      <td>2011</td>\n",
       "      <td>77</td>\n",
       "      <td>23</td>\n",
       "      <td>7</td>\n",
       "      <td>4</td>\n",
       "      <td>11.0</td>\n",
       "      <td>8</td>\n",
       "      <td>15</td>\n",
       "      <td>0.727273</td>\n",
       "      <td>0.652174</td>\n",
       "      <td>0.115152</td>\n",
       "      <td>[[[1.0, 1.0, 1.0, 1.0], [1.0, 1.0, 1.0, 1.0], ...</td>\n",
       "    </tr>\n",
       "    <tr>\n",
       "      <th>Bochum</th>\n",
       "      <td>2011</td>\n",
       "      <td>41</td>\n",
       "      <td>10</td>\n",
       "      <td>17</td>\n",
       "      <td>7</td>\n",
       "      <td>10.0</td>\n",
       "      <td>3</td>\n",
       "      <td>7</td>\n",
       "      <td>0.300000</td>\n",
       "      <td>0.291667</td>\n",
       "      <td>0.028571</td>\n",
       "      <td>[[[1.0, 1.0, 1.0, 1.0], [1.0, 1.0, 1.0, 1.0], ...</td>\n",
       "    </tr>\n",
       "    <tr>\n",
       "      <th>Braunschweig</th>\n",
       "      <td>2011</td>\n",
       "      <td>37</td>\n",
       "      <td>10</td>\n",
       "      <td>9</td>\n",
       "      <td>15</td>\n",
       "      <td>8.0</td>\n",
       "      <td>3</td>\n",
       "      <td>7</td>\n",
       "      <td>0.375000</td>\n",
       "      <td>0.269231</td>\n",
       "      <td>0.392857</td>\n",
       "      <td>[[[1.0, 1.0, 1.0, 1.0], [1.0, 1.0, 1.0, 1.0], ...</td>\n",
       "    </tr>\n",
       "  </tbody>\n",
       "</table>\n",
       "</div>"
      ],
      "text/plain": [
       "               Season  GoalsScored  Wins  Losses  Draws  RainGames  RainWins  \\\n",
       "Team                                                                           \n",
       "Aachen           2011           30     6      15     13       12.0         2   \n",
       "Augsburg         2011           36     8      12     14       11.0         4   \n",
       "Bayern Munich    2011           77    23       7      4       11.0         8   \n",
       "Bochum           2011           41    10      17      7       10.0         3   \n",
       "Braunschweig     2011           37    10       9     15        8.0         3   \n",
       "\n",
       "               NonRainWins  RainWin%  NonRainWin%  %ChangeWinWithRain  \\\n",
       "Team                                                                    \n",
       "Aachen                   4  0.166667     0.181818           -0.083333   \n",
       "Augsburg                 4  0.363636     0.173913            1.090909   \n",
       "Bayern Munich           15  0.727273     0.652174            0.115152   \n",
       "Bochum                   7  0.300000     0.291667            0.028571   \n",
       "Braunschweig             7  0.375000     0.269231            0.392857   \n",
       "\n",
       "                                                           graph  \n",
       "Team                                                              \n",
       "Aachen         [[[1.0, 1.0, 1.0, 1.0], [1.0, 1.0, 1.0, 1.0], ...  \n",
       "Augsburg       [[[1.0, 1.0, 1.0, 1.0], [1.0, 1.0, 1.0, 1.0], ...  \n",
       "Bayern Munich  [[[1.0, 1.0, 1.0, 1.0], [1.0, 1.0, 1.0, 1.0], ...  \n",
       "Bochum         [[[1.0, 1.0, 1.0, 1.0], [1.0, 1.0, 1.0, 1.0], ...  \n",
       "Braunschweig   [[[1.0, 1.0, 1.0, 1.0], [1.0, 1.0, 1.0, 1.0], ...  "
      ]
     },
     "execution_count": 14,
     "metadata": {},
     "output_type": "execute_result"
    }
   ],
   "source": [
    "df_all_data['graph'] = [imread('hist_images/{}.png'.format(team_name)).tolist() for team_name in df_all_data.index]\n",
    "df_all_data.head()"
   ]
  },
  {
   "cell_type": "markdown",
   "metadata": {},
   "source": [
    "## Mongo DB"
   ]
  },
  {
   "cell_type": "markdown",
   "metadata": {},
   "source": [
    "**Please ensure** that your Mongo Database has been opened through the terminal for smooth operation."
   ]
  },
  {
   "cell_type": "code",
   "execution_count": 15,
   "metadata": {},
   "outputs": [],
   "source": [
    "client = MongoHandler(\"mongodb://127.0.0.1:27017/\")"
   ]
  },
  {
   "cell_type": "code",
   "execution_count": 16,
   "metadata": {},
   "outputs": [
    {
     "name": "stdout",
     "output_type": "stream",
     "text": [
      "Now in the team_stats_collection collection in the team_stats_db database\n"
     ]
    },
    {
     "data": {
      "text/plain": [
       "Collection(Database(MongoClient(host=['127.0.0.1:27017'], document_class=dict, tz_aware=False, connect=True), 'team_stats_db'), 'team_stats_collection')"
      ]
     },
     "execution_count": 16,
     "metadata": {},
     "output_type": "execute_result"
    }
   ],
   "source": [
    "collection = client.make_collection('team_stats_db', 'team_stats_collection')\n",
    "collection"
   ]
  },
  {
   "cell_type": "code",
   "execution_count": 19,
   "metadata": {},
   "outputs": [
    {
     "name": "stdout",
     "output_type": "stream",
     "text": [
      "Collection team_stats_collection cleared\n"
     ]
    }
   ],
   "source": [
    "client.clear_collection('team_stats_db','team_stats_collection')"
   ]
  },
  {
   "cell_type": "code",
   "execution_count": 20,
   "metadata": {},
   "outputs": [
    {
     "name": "stdout",
     "output_type": "stream",
     "text": [
      "Items inserted: 36\n"
     ]
    }
   ],
   "source": [
    "results = collection.insert_many(MongoHandler.list_of_dicts(df_all_data))\n",
    "print('Items inserted: ' + str(len(results.inserted_ids)))"
   ]
  },
  {
   "cell_type": "code",
   "execution_count": 21,
   "metadata": {
    "scrolled": false
   },
   "outputs": [
    {
     "name": "stdout",
     "output_type": "stream",
     "text": [
      "{'name': 'Aachen', 'Season': 2011, 'GoalsScored': 30, 'Wins': 6, 'Losses': 15, 'Draws': 13, 'RainGames': 12, 'RainWins': 2, 'NonRainWins': 4, 'RainWin%': 0.1667, 'NonRainWin%': 0.1818, '%ChangeWinWithRain': -0.0833}\n",
      "{'name': 'Augsburg', 'Season': 2011, 'GoalsScored': 36, 'Wins': 8, 'Losses': 12, 'Draws': 14, 'RainGames': 11, 'RainWins': 4, 'NonRainWins': 4, 'RainWin%': 0.3636, 'NonRainWin%': 0.1739, '%ChangeWinWithRain': 1.0909}\n",
      "{'name': 'Bayern Munich', 'Season': 2011, 'GoalsScored': 77, 'Wins': 23, 'Losses': 7, 'Draws': 4, 'RainGames': 11, 'RainWins': 8, 'NonRainWins': 15, 'RainWin%': 0.7273, 'NonRainWin%': 0.6522, '%ChangeWinWithRain': 0.1152}\n",
      "{'name': 'Bochum', 'Season': 2011, 'GoalsScored': 41, 'Wins': 10, 'Losses': 17, 'Draws': 7, 'RainGames': 10, 'RainWins': 3, 'NonRainWins': 7, 'RainWin%': 0.3, 'NonRainWin%': 0.2917, '%ChangeWinWithRain': 0.0286}\n",
      "{'name': 'Braunschweig', 'Season': 2011, 'GoalsScored': 37, 'Wins': 10, 'Losses': 9, 'Draws': 15, 'RainGames': 8, 'RainWins': 3, 'NonRainWins': 7, 'RainWin%': 0.375, 'NonRainWin%': 0.2692, '%ChangeWinWithRain': 0.3929}\n",
      "{'name': 'Cottbus', 'Season': 2011, 'GoalsScored': 30, 'Wins': 8, 'Losses': 15, 'Draws': 11, 'RainGames': 9, 'RainWins': 2, 'NonRainWins': 6, 'RainWin%': 0.2222, 'NonRainWin%': 0.24, '%ChangeWinWithRain': -0.0741}\n",
      "{'name': 'Dortmund', 'Season': 2011, 'GoalsScored': 80, 'Wins': 25, 'Losses': 3, 'Draws': 6, 'RainGames': 10, 'RainWins': 6, 'NonRainWins': 19, 'RainWin%': 0.6, 'NonRainWin%': 0.7917, '%ChangeWinWithRain': -0.2421}\n",
      "{'name': 'Dresden', 'Season': 2011, 'GoalsScored': 50, 'Wins': 12, 'Losses': 13, 'Draws': 9, 'RainGames': 8, 'RainWins': 3, 'NonRainWins': 9, 'RainWin%': 0.375, 'NonRainWin%': 0.3462, '%ChangeWinWithRain': 0.0833}\n",
      "{'name': 'Duisburg', 'Season': 2011, 'GoalsScored': 42, 'Wins': 10, 'Losses': 15, 'Draws': 9, 'RainGames': 15, 'RainWins': 4, 'NonRainWins': 6, 'RainWin%': 0.2667, 'NonRainWin%': 0.3158, '%ChangeWinWithRain': -0.1556}\n",
      "{'name': 'Ein Frankfurt', 'Season': 2011, 'GoalsScored': 76, 'Wins': 20, 'Losses': 6, 'Draws': 8, 'RainGames': 8, 'RainWins': 3, 'NonRainWins': 17, 'RainWin%': 0.375, 'NonRainWin%': 0.6538, '%ChangeWinWithRain': -0.4265}\n",
      "{'name': 'Erzgebirge Aue', 'Season': 2011, 'GoalsScored': 31, 'Wins': 8, 'Losses': 15, 'Draws': 11, 'RainGames': 10, 'RainWins': 0, 'NonRainWins': 8, 'RainWin%': 0.0, 'NonRainWin%': 0.3333, '%ChangeWinWithRain': -1.0}\n",
      "{'name': 'FC Koln', 'Season': 2011, 'GoalsScored': 39, 'Wins': 8, 'Losses': 20, 'Draws': 6, 'RainGames': 13, 'RainWins': 4, 'NonRainWins': 4, 'RainWin%': 0.3077, 'NonRainWin%': 0.1905, '%ChangeWinWithRain': 0.6154}\n",
      "{'name': 'Fortuna Dusseldorf', 'Season': 2011, 'GoalsScored': 64, 'Wins': 16, 'Losses': 4, 'Draws': 14, 'RainGames': 12, 'RainWins': 5, 'NonRainWins': 11, 'RainWin%': 0.4167, 'NonRainWin%': 0.5, '%ChangeWinWithRain': -0.1667}\n",
      "{'name': 'Frankfurt FSV', 'Season': 2011, 'GoalsScored': 43, 'Wins': 7, 'Losses': 13, 'Draws': 14, 'RainGames': 13, 'RainWins': 1, 'NonRainWins': 6, 'RainWin%': 0.0769, 'NonRainWin%': 0.2857, '%ChangeWinWithRain': -0.7308}\n",
      "{'name': 'Freiburg', 'Season': 2011, 'GoalsScored': 45, 'Wins': 10, 'Losses': 14, 'Draws': 10, 'RainGames': 11, 'RainWins': 3, 'NonRainWins': 7, 'RainWin%': 0.2727, 'NonRainWin%': 0.3043, '%ChangeWinWithRain': -0.1039}\n",
      "{'name': 'Greuther Furth', 'Season': 2011, 'GoalsScored': 73, 'Wins': 20, 'Losses': 4, 'Draws': 10, 'RainGames': 13, 'RainWins': 8, 'NonRainWins': 12, 'RainWin%': 0.6154, 'NonRainWin%': 0.5714, '%ChangeWinWithRain': 0.0769}\n",
      "{'name': 'Hamburg', 'Season': 2011, 'GoalsScored': 35, 'Wins': 8, 'Losses': 14, 'Draws': 12, 'RainGames': 13, 'RainWins': 2, 'NonRainWins': 6, 'RainWin%': 0.1538, 'NonRainWin%': 0.2857, '%ChangeWinWithRain': -0.4615}\n",
      "{'name': 'Hannover', 'Season': 2011, 'GoalsScored': 41, 'Wins': 12, 'Losses': 10, 'Draws': 12, 'RainGames': 12, 'RainWins': 5, 'NonRainWins': 7, 'RainWin%': 0.4167, 'NonRainWin%': 0.3182, '%ChangeWinWithRain': 0.3095}\n",
      "{'name': 'Hansa Rostock', 'Season': 2011, 'GoalsScored': 34, 'Wins': 5, 'Losses': 17, 'Draws': 12, 'RainGames': 14, 'RainWins': 1, 'NonRainWins': 4, 'RainWin%': 0.0714, 'NonRainWin%': 0.2, '%ChangeWinWithRain': -0.6429}\n",
      "{'name': 'Hertha', 'Season': 2011, 'GoalsScored': 38, 'Wins': 7, 'Losses': 17, 'Draws': 10, 'RainGames': 10, 'RainWins': 3, 'NonRainWins': 4, 'RainWin%': 0.3, 'NonRainWin%': 0.1667, '%ChangeWinWithRain': 0.8}\n",
      "{'name': 'Hoffenheim', 'Season': 2011, 'GoalsScored': 41, 'Wins': 10, 'Losses': 13, 'Draws': 11, 'RainGames': 10, 'RainWins': 2, 'NonRainWins': 8, 'RainWin%': 0.2, 'NonRainWin%': 0.3333, '%ChangeWinWithRain': -0.4}\n",
      "{'name': 'Ingolstadt', 'Season': 2011, 'GoalsScored': 43, 'Wins': 8, 'Losses': 13, 'Draws': 13, 'RainGames': 13, 'RainWins': 2, 'NonRainWins': 6, 'RainWin%': 0.1538, 'NonRainWin%': 0.2857, '%ChangeWinWithRain': -0.4615}\n",
      "{'name': 'Kaiserslautern', 'Season': 2011, 'GoalsScored': 24, 'Wins': 4, 'Losses': 19, 'Draws': 11, 'RainGames': 12, 'RainWins': 0, 'NonRainWins': 4, 'RainWin%': 0.0, 'NonRainWin%': 0.1818, '%ChangeWinWithRain': -1.0}\n",
      "{'name': 'Karlsruhe', 'Season': 2011, 'GoalsScored': 34, 'Wins': 9, 'Losses': 19, 'Draws': 6, 'RainGames': 14, 'RainWins': 3, 'NonRainWins': 6, 'RainWin%': 0.2143, 'NonRainWin%': 0.3, '%ChangeWinWithRain': -0.2857}\n",
      "{'name': 'Leverkusen', 'Season': 2011, 'GoalsScored': 52, 'Wins': 15, 'Losses': 10, 'Draws': 9, 'RainGames': 14, 'RainWins': 6, 'NonRainWins': 9, 'RainWin%': 0.4286, 'NonRainWin%': 0.45, '%ChangeWinWithRain': -0.0476}\n",
      "{'name': \"M'gladbach\", 'Season': 2011, 'GoalsScored': 49, 'Wins': 17, 'Losses': 8, 'Draws': 9, 'RainGames': 11, 'RainWins': 8, 'NonRainWins': 9, 'RainWin%': 0.7273, 'NonRainWin%': 0.3913, '%ChangeWinWithRain': 0.8586}\n",
      "{'name': 'Mainz', 'Season': 2011, 'GoalsScored': 47, 'Wins': 9, 'Losses': 13, 'Draws': 12, 'RainGames': 10, 'RainWins': 2, 'NonRainWins': 7, 'RainWin%': 0.2, 'NonRainWin%': 0.2917, '%ChangeWinWithRain': -0.3143}\n",
      "{'name': 'Munich 1860', 'Season': 2011, 'GoalsScored': 62, 'Wins': 17, 'Losses': 11, 'Draws': 6, 'RainGames': 16, 'RainWins': 11, 'NonRainWins': 6, 'RainWin%': 0.6875, 'NonRainWin%': 0.3333, '%ChangeWinWithRain': 1.0625}\n",
      "{'name': 'Nurnberg', 'Season': 2011, 'GoalsScored': 38, 'Wins': 12, 'Losses': 16, 'Draws': 6, 'RainGames': 9, 'RainWins': 5, 'NonRainWins': 7, 'RainWin%': 0.5556, 'NonRainWin%': 0.28, '%ChangeWinWithRain': 0.9841}\n",
      "{'name': 'Paderborn', 'Season': 2011, 'GoalsScored': 51, 'Wins': 17, 'Losses': 7, 'Draws': 10, 'RainGames': 11, 'RainWins': 6, 'NonRainWins': 11, 'RainWin%': 0.5455, 'NonRainWin%': 0.4783, '%ChangeWinWithRain': 0.1405}\n",
      "{'name': 'Schalke 04', 'Season': 2011, 'GoalsScored': 74, 'Wins': 20, 'Losses': 10, 'Draws': 4, 'RainGames': 10, 'RainWins': 5, 'NonRainWins': 15, 'RainWin%': 0.5, 'NonRainWin%': 0.625, '%ChangeWinWithRain': -0.2}\n",
      "{'name': 'St Pauli', 'Season': 2011, 'GoalsScored': 59, 'Wins': 18, 'Losses': 8, 'Draws': 8, 'RainGames': 10, 'RainWins': 7, 'NonRainWins': 11, 'RainWin%': 0.7, 'NonRainWin%': 0.4583, '%ChangeWinWithRain': 0.5273}\n",
      "{'name': 'Stuttgart', 'Season': 2011, 'GoalsScored': 63, 'Wins': 15, 'Losses': 11, 'Draws': 8, 'RainGames': 7, 'RainWins': 3, 'NonRainWins': 12, 'RainWin%': 0.4286, 'NonRainWin%': 0.4444, '%ChangeWinWithRain': -0.0357}\n",
      "{'name': 'Union Berlin', 'Season': 2011, 'GoalsScored': 55, 'Wins': 14, 'Losses': 14, 'Draws': 6, 'RainGames': 10, 'RainWins': 5, 'NonRainWins': 9, 'RainWin%': 0.5, 'NonRainWin%': 0.375, '%ChangeWinWithRain': 0.3333}\n",
      "{'name': 'Werder Bremen', 'Season': 2011, 'GoalsScored': 49, 'Wins': 11, 'Losses': 14, 'Draws': 9, 'RainGames': 10, 'RainWins': 5, 'NonRainWins': 6, 'RainWin%': 0.5, 'NonRainWin%': 0.25, '%ChangeWinWithRain': 1.0}\n",
      "{'name': 'Wolfsburg', 'Season': 2011, 'GoalsScored': 47, 'Wins': 13, 'Losses': 16, 'Draws': 5, 'RainGames': 12, 'RainWins': 4, 'NonRainWins': 9, 'RainWin%': 0.3333, 'NonRainWin%': 0.4091, '%ChangeWinWithRain': -0.1852}\n"
     ]
    }
   ],
   "source": [
    "query = client.query_db('team_stats_db', 'team_stats_collection')\n",
    "for item in query:\n",
    "    print(item)"
   ]
  },
  {
   "cell_type": "code",
   "execution_count": null,
   "metadata": {},
   "outputs": [],
   "source": []
  }
 ],
 "metadata": {
  "kernelspec": {
   "display_name": "Python 3",
   "language": "python",
   "name": "python3"
  },
  "language_info": {
   "codemirror_mode": {
    "name": "ipython",
    "version": 3
   },
   "file_extension": ".py",
   "mimetype": "text/x-python",
   "name": "python",
   "nbconvert_exporter": "python",
   "pygments_lexer": "ipython3",
   "version": "3.7.3"
  }
 },
 "nbformat": 4,
 "nbformat_minor": 2
}
