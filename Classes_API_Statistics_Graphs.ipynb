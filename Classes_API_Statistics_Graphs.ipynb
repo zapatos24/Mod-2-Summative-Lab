{
 "cells": [
  {
   "cell_type": "code",
   "execution_count": null,
   "metadata": {},
   "outputs": [],
   "source": [
    "#basic class\n",
    "class rain_data: \n",
    "    from datetime import date\n",
    "    from dateutil.parser import parse\n",
    "    from dateutil import tz\n",
    "    import json\n",
    "    \n",
    "    def __init__(self, season_start_date, season_end_date, location):\n",
    "        self.start_date = parse(season_start_date)\n",
    "        self.end_date = parse(season_start_date)\n",
    "        self.date_range = (parse(season_end_date) - parse(season_start_date)).days\n",
    "        self.dates = [str(datetime.date(2011,7, 15) + datetime.timedelta(i)) for i in range(self.date_range)]\n",
    "    \n",
    "    def get_rain_df(self, api_key):\n",
    "        urls = [\"https://api.darksky.net/forecast/\"+str(api_key)+\"/52.5200,13.4050,\"+str(date)+\\\n",
    "           \"T15:00:00?exclude=currently,hourly,flags\" for date in self.dates]    \n",
    "        #retrieve data and unstring\n",
    "        data = []\n",
    "        for i in urls:\n",
    "            data.append(json.loads(requests.get(i).text))\n",
    "        #unnest dictionaries\n",
    "        daily_data = [data[i]['daily']['data'][0] for i in range(len(data))]\n",
    "        precipType = []\n",
    "        for i in range(len(daily_data)):\n",
    "            if 'precipType' in daily_data[i].keys():\n",
    "                precipType.append(daily_data[i]['precipType'])\n",
    "            else:\n",
    "                precipType.append('0')\n",
    "        raindf = pd.DataFrame(list(zip(dates, precipType)), columns =['Date', 'Rain'])\n",
    "        raindf['Rain']= raindf['Rain'].map({'0':0, 'rain':1, 'sleet':0, 'snow':0})\n",
    "        return raindf \n",
    "    \n",
    "    def merge_rain_data(df, raindf=raindf):\n",
    "        df = df.merge(weatherdf, on='Date', how='left')\n",
    "        return df"
   ]
  },
  {
   "cell_type": "code",
   "execution_count": 31,
   "metadata": {},
   "outputs": [
    {
     "ename": "SyntaxError",
     "evalue": "invalid syntax (<ipython-input-31-3a699ba928ad>, line 2)",
     "output_type": "error",
     "traceback": [
      "\u001b[0;36m  File \u001b[0;32m\"<ipython-input-31-3a699ba928ad>\"\u001b[0;36m, line \u001b[0;32m2\u001b[0m\n\u001b[0;31m    class\u001b[0m\n\u001b[0m          ^\u001b[0m\n\u001b[0;31mSyntaxError\u001b[0m\u001b[0;31m:\u001b[0m invalid syntax\n"
     ]
    }
   ],
   "source": [
    "#advanced\n",
    "class rain_data:\n",
    "    !pip install geopy\n",
    "    from geopy.geocoders.Nominatim import geocoders\n",
    "    from datetime import date\n",
    "    from dateutil.parser import parse\n",
    "    from pytz import timezone\n",
    "    import json\n",
    "    \n",
    "    def __init__(self, season_start_date, season_end_date, location, time_24hours ='15:00', timezone='Europe/London'):\n",
    "        self.start_date = parse(season_start_date)\n",
    "        self.end_date = parse(season_start_date)\n",
    "        self.date_range = (parse(season_end_date) - parse(season_start_date)).days\n",
    "        self.dates = [str(datetime.date(self.start_date) + datetime.timedelta(i)) for i in range(self.date_range)]\n",
    "        self.times = ['T' + time + ':00' + pytz.timezone(timezone).localize(datetime.(date)).strftime('%z')[:3]\\\n",
    "                     + ':' + pytz.timezone(timezone).localize(datetime(date)).strftime('%z')[3:]\\\n",
    "                     for date in self.dates]\n",
    "        self.datetimes = [dates[i] + times[i] for date in self.dates]\n",
    "        self.location = location\n",
    "        \n",
    "    def get_rain_df(self, api_key, time='15:00'):\n",
    "        address = geocoders(location)\n",
    "        urls = [\"https://api.darksky.net/forecast/\"+str(api_key)+\"/\"+str(address.latitude)+','+str(address.longitude)+','+str(date)+\\\n",
    "           str(datetime) + \"?exclude=currently,hourly,flags\" for datetime in self.datetimes]     \n",
    "        #retrieve data and unstring\n",
    "        data = []\n",
    "        for i in urls:\n",
    "            data.append(json.loads(requests.get(i).text))\n",
    "        #unnest dictionaries\n",
    "        daily_data = [data[i]['daily']['data'][0] for i in range(len(data))]\n",
    "        precipType = []\n",
    "        for i in range(len(daily_data)):\n",
    "            if 'precipType' in daily_data[i].keys():\n",
    "                precipType.append(daily_data[i]['precipType'])\n",
    "            else:\n",
    "                precipType.append('0')\n",
    "        raindf = pd.DataFrame(list(zip(dates, precipType)), columns =['Date', 'Rain'])\n",
    "        raindf['Rain']= raindf['Rain'].map({'0':0, 'rain':1, 'sleet':0, 'snow':0})\n",
    "        return raindf \n",
    "    "
   ]
  },
  {
   "cell_type": "code",
   "execution_count": 45,
   "metadata": {},
   "outputs": [
    {
     "data": {
      "text/plain": [
       "'+02:00'"
      ]
     },
     "execution_count": 45,
     "metadata": {},
     "output_type": "execute_result"
    }
   ],
   "source": [
    "class win_loss_record:\n",
    "    def __init__:(self,df):\n",
    "        self.df = df\n",
    "    \n",
    "    def goals_scored_df(self):\n",
    "        return self.df.groupby('HomeTeam').FTHG.sum()+self.df.groupby('AwayTeam').FTAG.sum()\n",
    "    \n",
    "    def team_records(self):\n",
    "        self.df['HomeWin'] = self.df.FTR.map({'H':1, 'A':0, 'D':0})\n",
    "        self.df['AwayWin'] = self.df.FTR.map({'H':0, 'A':1, 'D':0})\n",
    "        self.df['HomeLoss'] = self.df.FTR.map({'H':0, 'A':1, 'D':0})\n",
    "        self.df['AwayLoss'] = self.df.FTR.map({'H':1, 'A':0, 'D':0})\n",
    "        teams = pd.DataFrame()\n",
    "        teams['Wins'] = self.df.groupby('HomeTeam').HomeWin.sum() + self.df.groupby('AwayTeam').AwayWin.sum()\n",
    "        teams['Losses'] = self.df.groupby('HomeTeam').HomeLoss.sum() + self.df.groupby('AwayTeam').AwayLoss.sum()\n",
    "        teams['Draws'] = 34 - teams.Wins - teams.Losses\n",
    "        teams.index.rename('Team', inplace=True)\n",
    "        return teams\n",
    "    \n",
    "    def team_records_graphs(self)\n",
    "        team_records()\n",
    "        cols = teams.columns\n",
    "        bar_x = ['Wins', 'Losses', 'Draws']\n",
    "        for i in range(len(teams)):\n",
    "            bar_y = list(teams[cols].iloc[i])\n",
    "            team_name = teams.index[i]\n",
    "            plt.bar(x=bar_x, height=bar_y)\n",
    "            plt.title(team_name)\n",
    "            plt.savefig('hist_images/{}.png'.format(team_name))\n",
    "            plt.clf()\n",
    "        teams['graph'] = [imread('hist_images/{}.png'.format(team_name)).tolist() for team_name in teams.index]\n",
    "        return teams\n",
    "        \n",
    "        \n",
    "    def rain_results(self, raindf):\n",
    "        self.df = self.df.merge(raindf, on='Date', how='left')\n",
    "        teams = match_results()\n",
    "        teams['RainGames'] = self.df.groupby('HomeTeam').Rain.sum() + self.df.groupby('AwayTeam').Rain.sum()\n",
    "        teams['RainWins'] = self.df[self.df.Rain==1].groupby('HomeTeam').HomeWin.sum() + self.df[dself.f.Rain==1].groupby('AwayTeam').AwayWin.sum()\n",
    "        teams['NonRainWins'] = teams.Wins - teams.RainWins\n",
    "        teams['RainWin%'] = teams.RainWins/teams.RainGames\n",
    "        teams['NonRainWin%'] = teams.NonRainWins/(34-teams.RainGames)\n",
    "        teams['%ChangeWinWithRain'] = (teams['RainWin%']-teams['NonRainWin%'])/teams['NonRainWin%']\n",
    "        teams.index.rename('Team', inplace=True)\n",
    "        return teams\n",
    "    \n",
    "    \n"
   ]
  },
  {
   "cell_type": "code",
   "execution_count": null,
   "metadata": {},
   "outputs": [],
   "source": [
    "for i in range(len(teams)):\n",
    "    bar_y = list(teams[cols].iloc[i])\n",
    "    team_name = teams.index[i]\n",
    "    plt.bar(x=bar_x, height=bar_y)\n",
    "    plt.title(team_name)\n",
    "    plt.savefig('hist_images/{}.png'.format(team_name))\n",
    "    plt.clf()\n",
    "teams['graph'] = [imread('hist_images/{}.png'.format(team_name)).tolist() for team_name in teams.index]\n",
    "teams.head()"
   ]
  },
  {
   "cell_type": "code",
   "execution_count": null,
   "metadata": {},
   "outputs": [],
   "source": [
    "def rain_results(self, raindf):\n",
    "        self.df = self.df.merge(raindf, on='Date', how='left')\n",
    "        teams = pd.DataFrame()\n",
    "        teams['Wins'] = df.groupby('HomeTeam').HomeWin.sum() + df.groupby('AwayTeam').AwayWin.sum()\n",
    "        teams['Losses'] = df.groupby('HomeTeam').HomeLoss.sum() + df.groupby('AwayTeam').AwayLoss.sum()\n",
    "        teams['Draws'] = 34 - teams.Wins - teams.Losses\n",
    "        teams['RainGames'] = df.groupby('HomeTeam').Rain.sum() + df.groupby('AwayTeam').Rain.sum()\n",
    "        teams['RainWins'] = df[df.Rain==1].groupby('HomeTeam').HomeWin.sum() + df[df.Rain==1].groupby('AwayTeam').AwayWin.sum()\n",
    "        teams['NonRainWins'] = teams.Wins - teams.RainWins\n",
    "        teams['RainWin%'] = teams.RainWins/teams.RainGames\n",
    "        teams['NonRainWin%'] = teams.NonRainWins/(34-teams.RainGames)\n",
    "        teams['%ChangeWinWithRain'] = (teams['RainWin%']-teams['NonRainWin%'])/teams['NonRainWin%']\n",
    "        teams.index.rename('Team', inplace=True)"
   ]
  },
  {
   "cell_type": "code",
   "execution_count": 39,
   "metadata": {},
   "outputs": [
    {
     "ename": "TypeError",
     "evalue": "reverse_timezone() missing 1 required positional argument: 'query'",
     "output_type": "error",
     "traceback": [
      "\u001b[0;31m---------------------------------------------------------------------------\u001b[0m",
      "\u001b[0;31mTypeError\u001b[0m                                 Traceback (most recent call last)",
      "\u001b[0;32m<ipython-input-39-2de1369389f1>\u001b[0m in \u001b[0;36m<module>\u001b[0;34m\u001b[0m\n\u001b[0;32m----> 1\u001b[0;31m \u001b[0mgeopy\u001b[0m\u001b[0;34m.\u001b[0m\u001b[0mgeocoders\u001b[0m\u001b[0;34m.\u001b[0m\u001b[0mGeoNames\u001b[0m\u001b[0;34m.\u001b[0m\u001b[0mreverse_timezone\u001b[0m\u001b[0;34m(\u001b[0m\u001b[0;34m\"%(52.5200)s%(13.4050)s\"\u001b[0m\u001b[0;34m)\u001b[0m\u001b[0;34m\u001b[0m\u001b[0;34m\u001b[0m\u001b[0m\n\u001b[0m",
      "\u001b[0;31mTypeError\u001b[0m: reverse_timezone() missing 1 required positional argument: 'query'"
     ]
    }
   ],
   "source": [
    "geopy.geocoders.GeoNames.reverse_timezone(\"%(52.5200)s%(13.4050)s\")"
   ]
  },
  {
   "cell_type": "code",
   "execution_count": null,
   "metadata": {},
   "outputs": [],
   "source": [
    "coordinates "
   ]
  }
 ],
 "metadata": {
  "kernelspec": {
   "display_name": "Python 3",
   "language": "python",
   "name": "python3"
  },
  "language_info": {
   "codemirror_mode": {
    "name": "ipython",
    "version": 3
   },
   "file_extension": ".py",
   "mimetype": "text/x-python",
   "name": "python",
   "nbconvert_exporter": "python",
   "pygments_lexer": "ipython3",
   "version": "3.7.3"
  }
 },
 "nbformat": 4,
 "nbformat_minor": 2
}
