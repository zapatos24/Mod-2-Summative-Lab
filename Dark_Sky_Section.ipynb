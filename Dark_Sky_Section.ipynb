{
 "cells": [
  {
   "cell_type": "code",
   "execution_count": 144,
   "metadata": {},
   "outputs": [],
   "source": [
    "import pandas as pd\n",
    "import json\n",
    "import datetime\n",
    "import pytz"
   ]
  },
  {
   "cell_type": "code",
   "execution_count": 161,
   "metadata": {},
   "outputs": [],
   "source": [
    "dates = [str(datetime.date(2011,7, 15) + datetime.timedelta(i)) for i in range(297)]\n",
    "\n",
    "#time set at 3pm GMT to find 4pm European Central Time\n",
    "urls = [\"https://api.darksky.net/forecast/520ec0a7ffac4abd104235b232a81fbb/52.5200,13.4050,\"\\\n",
    "                       +date+\"T15:00:00Z?exclude=currently,hourly,flags\" for date in dates]\n",
    "#retrieve data and unstring\n",
    "data = []\n",
    "for i in urls:\n",
    "    data.append(json.loads(requests.get(i).text))"
   ]
  },
  {
   "cell_type": "code",
   "execution_count": 162,
   "metadata": {},
   "outputs": [
    {
     "data": {
      "text/plain": [
       "{'0', 'rain', 'sleet', 'snow'}"
      ]
     },
     "execution_count": 162,
     "metadata": {},
     "output_type": "execute_result"
    }
   ],
   "source": [
    "#unnest dictionaries\n",
    "daily_data = [data[i]['daily']['data'][0] for i in range(len(data))]\n",
    "\n",
    "#extract precipitation type\n",
    "precipType = []\n",
    "for i in range(len(daily_data)):\n",
    "    if 'precipType' in daily_data[i].keys():\n",
    "        precipType.append(daily_data[i]['precipType'])\n",
    "    else:\n",
    "        precipType.append('0')\n",
    "set(precipType)"
   ]
  },
  {
   "cell_type": "code",
   "execution_count": 163,
   "metadata": {},
   "outputs": [],
   "source": [
    "#Create dataframe with dates and precipitation type\n",
    "precip_dates = dict(zip(dates, precip))\n",
    "df = pd.DataFrame.from_dict(precip_dates, orient='index')\n",
    "\n",
    "#change strings into rain dummy variable\n",
    "weatherdf = df.iloc[:,0].map({'0':0, 'rain':1, 'sleet':0, 'snow':0})"
   ]
  },
  {
   "cell_type": "code",
   "execution_count": 165,
   "metadata": {},
   "outputs": [
    {
     "data": {
      "text/plain": [
       "2011-07-15    0\n",
       "2011-07-16    0\n",
       "2011-07-17    1\n",
       "2011-07-18    1\n",
       "2011-07-19    0\n",
       "Name: 0, dtype: int64"
      ]
     },
     "execution_count": 165,
     "metadata": {},
     "output_type": "execute_result"
    }
   ],
   "source": [
    "weatherdf.head()"
   ]
  },
  {
   "cell_type": "code",
   "execution_count": 166,
   "metadata": {},
   "outputs": [
    {
     "data": {
      "text/plain": [
       "pandas.core.series.Series"
      ]
     },
     "execution_count": 166,
     "metadata": {},
     "output_type": "execute_result"
    }
   ],
   "source": [
    "type(weatherdf)"
   ]
  },
  {
   "cell_type": "code",
   "execution_count": null,
   "metadata": {},
   "outputs": [],
   "source": []
  }
 ],
 "metadata": {
  "kernelspec": {
   "display_name": "Python 3",
   "language": "python",
   "name": "python3"
  },
  "language_info": {
   "codemirror_mode": {
    "name": "ipython",
    "version": 3
   },
   "file_extension": ".py",
   "mimetype": "text/x-python",
   "name": "python",
   "nbconvert_exporter": "python",
   "pygments_lexer": "ipython3",
   "version": "3.7.3"
  }
 },
 "nbformat": 4,
 "nbformat_minor": 2
}
